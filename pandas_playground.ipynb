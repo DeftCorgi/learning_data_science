{
 "cells": [
  {
   "cell_type": "markdown",
   "metadata": {},
   "source": [
    "# Playground for messing around with pandas"
   ]
  },
  {
   "cell_type": "code",
   "execution_count": 1,
   "metadata": {
    "collapsed": true
   },
   "outputs": [],
   "source": [
    "# import dependencies\n",
    "import pandas as pd\n"
   ]
  },
  {
   "cell_type": "code",
   "execution_count": 2,
   "metadata": {
    "collapsed": true
   },
   "outputs": [],
   "source": [
    "# create a dataset of UFO sightings as a pandas dataframe object\n",
    "# We can specify the columns we want using usecols argument\n",
    "# We use the dtype argument to explicitly state the dtype of some columns in a dictionary\n",
    "data = pd.read_csv('data/ufo_sighting_data.csv',\n",
    "                   usecols=['Date_time', 'city', 'state/province', 'country', 'UFO_shape',\n",
    "                            'length_of_encounter_seconds', 'described_duration_of_encounter',\n",
    "                            'date_documented', 'latitude', 'longitude'],\n",
    "                   dtype={ 'length_of_encounter_seconds': object, 'latitude': object })\n",
    "\n",
    "\n",
    "# We will cast this column to a float as the dataset itself contains some artifacts\n",
    "data['length_of_encounter_seconds'] = pd.to_numeric(data['length_of_encounter_seconds'], errors='coerce')"
   ]
  },
  {
   "cell_type": "markdown",
   "metadata": {},
   "source": [
    "## A quick look at our data"
   ]
  },
  {
   "cell_type": "code",
   "execution_count": 3,
   "metadata": {},
   "outputs": [
    {
     "data": {
      "text/plain": [
       "(80332, 10)"
      ]
     },
     "execution_count": 3,
     "metadata": {},
     "output_type": "execute_result"
    }
   ],
   "source": [
    "# The shape of all our data\n",
    "# a tuple where the 1st int is the number of records or observations in our dataset\n",
    "# the second number is the number of variables or features each observation has\n",
    "\n",
    "data.shape"
   ]
  },
  {
   "cell_type": "code",
   "execution_count": 4,
   "metadata": {},
   "outputs": [
    {
     "data": {
      "text/plain": [
       "Index(['Date_time', 'city', 'state/province', 'country', 'UFO_shape',\n",
       "       'length_of_encounter_seconds', 'described_duration_of_encounter',\n",
       "       'date_documented', 'latitude', 'longitude'],\n",
       "      dtype='object')"
      ]
     },
     "execution_count": 4,
     "metadata": {},
     "output_type": "execute_result"
    }
   ],
   "source": [
    "# column names\n",
    "data.columns"
   ]
  },
  {
   "cell_type": "code",
   "execution_count": 5,
   "metadata": {},
   "outputs": [
    {
     "name": "stdout",
     "output_type": "stream",
     "text": [
      "Date_time                           object\n",
      "city                                object\n",
      "state/province                      object\n",
      "country                             object\n",
      "UFO_shape                           object\n",
      "length_of_encounter_seconds        float64\n",
      "described_duration_of_encounter     object\n",
      "date_documented                     object\n",
      "latitude                            object\n",
      "longitude                          float64\n",
      "dtype: object\n"
     ]
    }
   ],
   "source": [
    "# Lets look at the data types of our columns\n",
    "# Object columns basically just means string\n",
    "\n",
    "print(data.dtypes)"
   ]
  },
  {
   "cell_type": "code",
   "execution_count": 6,
   "metadata": {
    "collapsed": true
   },
   "outputs": [],
   "source": [
    "# columns can be renamed like this\n",
    "data.rename(columns={ 'UFO_shape': 'shape' }, inplace=True)\n",
    "\n",
    "# We can also rename all colums quickly like so\n",
    "data.columns = ['Date_time', 'city', 'state/province', 'country', 'UFO_shape',\n",
    "       'duration', 'described_duration_of_encounter',\n",
    "       'date_documented', 'latitude', 'longitude']"
   ]
  },
  {
   "cell_type": "code",
   "execution_count": 7,
   "metadata": {},
   "outputs": [
    {
     "name": "stdout",
     "output_type": "stream",
     "text": [
      "          Date_time                  city state/province country UFO_shape  \\\n",
      "0  10/10/1949 20:30            san marcos             tx      us  cylinder   \n",
      "1  10/10/1949 21:00          lackland afb             tx     NaN     light   \n",
      "2  10/10/1955 17:00  chester (uk/england)            NaN      gb    circle   \n",
      "3  10/10/1956 21:00                  edna             tx      us    circle   \n",
      "4  10/10/1960 20:00               kaneohe             hi      us     light   \n",
      "\n",
      "   duration described_duration_of_encounter date_documented    latitude  \\\n",
      "0    2700.0                      45 minutes       4/27/2004  29.8830556   \n",
      "1    7200.0                         1-2 hrs      12/16/2005    29.38421   \n",
      "2      20.0                      20 seconds       1/21/2008        53.2   \n",
      "3      20.0                        1/2 hour       1/17/2004  28.9783333   \n",
      "4     900.0                      15 minutes       1/22/2004  21.4180556   \n",
      "\n",
      "    longitude  \n",
      "0  -97.941111  \n",
      "1  -98.581082  \n",
      "2   -2.916667  \n",
      "3  -96.645833  \n",
      "4 -157.803611  \n"
     ]
    }
   ],
   "source": [
    "# The head method gives us a quick look at our data by returning the first 5 records\n",
    "\n",
    "print(data.head())"
   ]
  },
  {
   "cell_type": "code",
   "execution_count": 8,
   "metadata": {},
   "outputs": [
    {
     "name": "stdout",
     "output_type": "stream",
     "text": [
      "           duration     longitude\n",
      "count  8.032900e+04  80332.000000\n",
      "mean   9.017226e+03    -86.772885\n",
      "std    6.202284e+05     39.697205\n",
      "min    1.000000e-03   -176.658056\n",
      "25%    3.000000e+01   -112.073333\n",
      "50%    1.800000e+02    -87.903611\n",
      "75%    6.000000e+02    -78.755000\n",
      "max    9.783600e+07    178.441900\n",
      "             Date_time     city state/province country UFO_shape  \\\n",
      "count            80332    80332          74535   70662     78400   \n",
      "unique           69586    19900             67       5        29   \n",
      "top     7/4/2010 22:00  seattle             ca      us     light   \n",
      "freq                36      525           9655   65114     16565   \n",
      "\n",
      "       described_duration_of_encounter date_documented    latitude  \n",
      "count                            80332           80332       80332  \n",
      "unique                            8304             317       18421  \n",
      "top                          5 minutes      12/12/2009  47.6063889  \n",
      "freq                              4716            1510         581  \n"
     ]
    }
   ],
   "source": [
    "# A helpful way to get an overview of the actual data\n",
    "# Works with numeric data, not so useful with longitudinal data\n",
    "\n",
    "print(data.describe())\n",
    "print(data.describe(include=['object']))"
   ]
  },
  {
   "cell_type": "markdown",
   "metadata": {},
   "source": [
    "## Series manipulation\n",
    "\n",
    "### Selecting"
   ]
  },
  {
   "cell_type": "code",
   "execution_count": 9,
   "metadata": {},
   "outputs": [
    {
     "name": "stdout",
     "output_type": "stream",
     "text": [
      "States: \n",
      "0     tx\n",
      "1     tx\n",
      "2    NaN\n",
      "3     tx\n",
      "4     hi\n",
      "Name: state/province, dtype: object\n",
      "\n",
      "Durations: \n",
      "0    2700.0\n",
      "1    7200.0\n",
      "2      20.0\n",
      "3      20.0\n",
      "4     900.0\n",
      "Name: duration, dtype: float64\n",
      "<class 'pandas.core.series.Series'>\n"
     ]
    }
   ],
   "source": [
    "# Simply use bracket notation to select a series from a dataframe\n",
    "states = data['state/province']\n",
    "\n",
    "# we can also use dot notation\n",
    "durations = data.duration\n",
    "print('States: ')\n",
    "print(states.head(), end='\\n\\n')\n",
    "\n",
    "print('Durations: ')\n",
    "print(durations.head())\n",
    "print(type(durations))"
   ]
  },
  {
   "cell_type": "markdown",
   "metadata": {},
   "source": [
    "### Note\n",
    "Dot notation will not work when callign attributes with the same name as reserved dataframe properties and methods. e.g 'shape', 'head'"
   ]
  },
  {
   "cell_type": "markdown",
   "metadata": {},
   "source": [
    "### Creating"
   ]
  },
  {
   "cell_type": "code",
   "execution_count": 10,
   "metadata": {},
   "outputs": [
    {
     "name": "stdout",
     "output_type": "stream",
     "text": [
      "0      san marcos, tx\n",
      "1    lackland afb, tx\n",
      "2                 NaN\n",
      "3            edna, tx\n",
      "4         kaneohe, hi\n",
      "Name: location, dtype: object\n"
     ]
    }
   ],
   "source": [
    "# Lets say we want to combine the city and state like so: city, state\n",
    "# we must use bracket notation\n",
    "data['location'] = data.city + ', ' + data['state/province']\n",
    "print(data.location.head())"
   ]
  },
  {
   "cell_type": "markdown",
   "metadata": {},
   "source": [
    "### Dropping"
   ]
  },
  {
   "cell_type": "code",
   "execution_count": 11,
   "metadata": {
    "collapsed": true
   },
   "outputs": [],
   "source": [
    "# You can drop a column by passing in a string or many by passing a list of strings\n",
    "# Axis specifies that we want to drop a column\n",
    "data.drop('described_duration_of_encounter', axis=1, inplace=True)"
   ]
  },
  {
   "cell_type": "code",
   "execution_count": 12,
   "metadata": {},
   "outputs": [
    {
     "name": "stdout",
     "output_type": "stream",
     "text": [
      "before: (80332, 10)\n",
      "Dropping 5 rows...\n",
      "after: (80327, 10)\n"
     ]
    }
   ],
   "source": [
    "# We can drop rows by setting axis to 0 and specifying the record ID or row number\n",
    "print('before: ' + str(data.shape))\n",
    "\n",
    "data.drop([0, 1, 2, 3, 4], axis=0, inplace=True)\n",
    "\n",
    "print('Dropping 5 rows...')\n",
    "print('after: ' + str(data.shape))"
   ]
  },
  {
   "cell_type": "markdown",
   "metadata": {},
   "source": [
    "### String manipulation"
   ]
  },
  {
   "cell_type": "code",
   "execution_count": 13,
   "metadata": {},
   "outputs": [
    {
     "data": {
      "text/plain": [
       "5               Bristol\n",
       "6              Penarth \n",
       "7               Norwalk\n",
       "8             Pell City\n",
       "9              Live Oak\n",
       "10            Hawthorne\n",
       "11              Brevard\n",
       "12             Bellmore\n",
       "13           Manchester\n",
       "14            Lexington\n",
       "15        Harlan County\n",
       "16      West Bloomfield\n",
       "17              Niantic\n",
       "18          Bermuda Nas\n",
       "19               Hudson\n",
       "20             Cardiff \n",
       "21               Hudson\n",
       "22     North Charleston\n",
       "23            Washougal\n",
       "24    Stoke Mandeville \n",
       "Name: city, dtype: object"
      ]
     },
     "execution_count": 13,
     "metadata": {},
     "output_type": "execute_result"
    }
   ],
   "source": [
    "# We can manipulate all the strings inside a series using these built in string methods\n",
    "# Lets say we want to upper() every state/province \n",
    "# we just call str() on the series and then a string method\n",
    "\n",
    "data['state/province'].str.upper()\n",
    "\n",
    "# string methods can also be chained but since a series is returned we must use str() again\n",
    "# Here we get rid of brackets and their contents as well as capitalize the first letter of every word.\n",
    "# replace() can take a string or a regex\n",
    "\n",
    "data['city'].str.replace('\\([a-z/-]+\\)', '').str.title()[0:20]\n"
   ]
  },
  {
   "cell_type": "markdown",
   "metadata": {},
   "source": [
    "### Sorting "
   ]
  },
  {
   "cell_type": "code",
   "execution_count": 14,
   "metadata": {},
   "outputs": [
    {
     "name": "stdout",
     "output_type": "stream",
     "text": [
      "9907                             &ccedil;anakkale (turkey)\n",
      "1076                  &iacute;safj&ouml;r&eth;ur (iceland)\n",
      "24320                                &ouml;lmstad (sweden)\n",
      "39987    1-25 corridor (southbound&#44 65 miles north n...\n",
      "7463                                     100 mile (canada)\n",
      "Name: city, dtype: object\n",
      "\n",
      "18796                   zwolle\n",
      "64220       zwevegem (belgium)\n",
      "37622    zutphen (netherlands)\n",
      "79296                 zumbrota\n",
      "19979                 zumbrota\n",
      "Name: city, dtype: object\n"
     ]
    }
   ],
   "source": [
    "# We can sort based on a series \n",
    "print(data.city.sort_values().head())\n",
    "\n",
    "# change order by passing in ascending=False\n",
    "print()\n",
    "print(data.city.sort_values(ascending=False).head())"
   ]
  },
  {
   "cell_type": "markdown",
   "metadata": {},
   "source": [
    "### Sorting The dataframe"
   ]
  },
  {
   "cell_type": "code",
   "execution_count": 15,
   "metadata": {},
   "outputs": [
    {
     "name": "stdout",
     "output_type": "stream",
     "text": [
      "              Date_time                   city state/province country  \\\n",
      "18796  12/18/2002 17:30                 zwolle             la      us   \n",
      "64220   8/10/2001 20:45     zwevegem (belgium)            NaN     NaN   \n",
      "37622   4/18/2010 23:00  zutphen (netherlands)            NaN     NaN   \n",
      "79296    9/5/1999 20:50               zumbrota             mn      us   \n",
      "19979  12/23/2000 16:30               zumbrota             mn      us   \n",
      "\n",
      "      UFO_shape  duration date_documented    latitude  longitude      location  \n",
      "18796     other    1260.0       12/2/2013  31.6313889 -93.643889    zwolle, la  \n",
      "64220   unknown    1500.0       8/12/2001   50.812926   3.332698           NaN  \n",
      "37622    sphere     120.0       4/18/2012   52.142736   6.196058           NaN  \n",
      "79296    circle       4.0       10/2/1999  44.2941667 -92.668889  zumbrota, mn  \n",
      "19979     cigar      30.0       1/17/2004  44.2941667 -92.668889  zumbrota, mn  \n"
     ]
    }
   ],
   "source": [
    "# We can sort the dataframe by the series\n",
    "print(data.sort_values('city', ascending=False).head())"
   ]
  },
  {
   "cell_type": "code",
   "execution_count": 16,
   "metadata": {},
   "outputs": [
    {
     "name": "stdout",
     "output_type": "stream",
     "text": [
      "            Date_time       city state/province country UFO_shape  duration  \\\n",
      "80331  9/9/2013 23:00     edmond             ok      us     cigar    1020.0   \n",
      "80330  9/9/2013 22:20     vienna             va      us    circle       5.0   \n",
      "80329  9/9/2013 22:00       napa             ca      us     other    1200.0   \n",
      "80328  9/9/2013 22:00      boise             id      us    circle    1200.0   \n",
      "80327  9/9/2013 21:15  nashville             tn      us     light     600.0   \n",
      "\n",
      "      date_documented    latitude   longitude       location  \n",
      "80331       9/30/2013  35.6527778  -97.477778     edmond, ok  \n",
      "80330       9/30/2013  38.9011111  -77.265556     vienna, va  \n",
      "80329       9/30/2013  38.2972222 -122.284444       napa, ca  \n",
      "80328       9/30/2013  43.6136111 -116.202500      boise, id  \n",
      "80327       9/30/2013  36.1658333  -86.784444  nashville, tn  \n"
     ]
    }
   ],
   "source": [
    "# We can sort dataframes by many series by passing in a list to sort_values()\n",
    "print(data.sort_values(['Date_time', 'city'], ascending=False).head())"
   ]
  },
  {
   "cell_type": "markdown",
   "metadata": {},
   "source": [
    "## Filtering Dataframes"
   ]
  },
  {
   "cell_type": "code",
   "execution_count": 17,
   "metadata": {},
   "outputs": [
    {
     "name": "stdout",
     "output_type": "stream",
     "text": [
      "5    False\n",
      "6    False\n",
      "7    False\n",
      "8    False\n",
      "9    False\n",
      "Name: state/province, dtype: bool\n",
      "(9655, 10)\n"
     ]
    },
    {
     "data": {
      "text/html": [
       "<div>\n",
       "<style>\n",
       "    .dataframe thead tr:only-child th {\n",
       "        text-align: right;\n",
       "    }\n",
       "\n",
       "    .dataframe thead th {\n",
       "        text-align: left;\n",
       "    }\n",
       "\n",
       "    .dataframe tbody tr th {\n",
       "        vertical-align: top;\n",
       "    }\n",
       "</style>\n",
       "<table border=\"1\" class=\"dataframe\">\n",
       "  <thead>\n",
       "    <tr style=\"text-align: right;\">\n",
       "      <th></th>\n",
       "      <th>Date_time</th>\n",
       "      <th>city</th>\n",
       "      <th>state/province</th>\n",
       "      <th>country</th>\n",
       "      <th>UFO_shape</th>\n",
       "      <th>duration</th>\n",
       "      <th>date_documented</th>\n",
       "      <th>latitude</th>\n",
       "      <th>longitude</th>\n",
       "      <th>location</th>\n",
       "    </tr>\n",
       "  </thead>\n",
       "  <tbody>\n",
       "    <tr>\n",
       "      <th>10</th>\n",
       "      <td>10/10/1968 13:00</td>\n",
       "      <td>hawthorne</td>\n",
       "      <td>ca</td>\n",
       "      <td>us</td>\n",
       "      <td>circle</td>\n",
       "      <td>300.0</td>\n",
       "      <td>10/31/2003</td>\n",
       "      <td>33.9163889</td>\n",
       "      <td>-118.351667</td>\n",
       "      <td>hawthorne, ca</td>\n",
       "    </tr>\n",
       "    <tr>\n",
       "      <th>30</th>\n",
       "      <td>10/10/1979 22:00</td>\n",
       "      <td>san diego</td>\n",
       "      <td>ca</td>\n",
       "      <td>us</td>\n",
       "      <td>oval</td>\n",
       "      <td>180.0</td>\n",
       "      <td>8/5/2001</td>\n",
       "      <td>32.7152778</td>\n",
       "      <td>-117.156389</td>\n",
       "      <td>san diego, ca</td>\n",
       "    </tr>\n",
       "    <tr>\n",
       "      <th>45</th>\n",
       "      <td>10/10/1989 00:00</td>\n",
       "      <td>calabasas</td>\n",
       "      <td>ca</td>\n",
       "      <td>us</td>\n",
       "      <td>disk</td>\n",
       "      <td>300.0</td>\n",
       "      <td>12/14/2004</td>\n",
       "      <td>34.1577778</td>\n",
       "      <td>-118.637500</td>\n",
       "      <td>calabasas, ca</td>\n",
       "    </tr>\n",
       "    <tr>\n",
       "      <th>63</th>\n",
       "      <td>10/10/1995 22:40</td>\n",
       "      <td>oakland</td>\n",
       "      <td>ca</td>\n",
       "      <td>us</td>\n",
       "      <td>NaN</td>\n",
       "      <td>60.0</td>\n",
       "      <td>11/2/1999</td>\n",
       "      <td>37.8044444</td>\n",
       "      <td>-122.269722</td>\n",
       "      <td>oakland, ca</td>\n",
       "    </tr>\n",
       "    <tr>\n",
       "      <th>72</th>\n",
       "      <td>10/10/1998 02:30</td>\n",
       "      <td>hollywood</td>\n",
       "      <td>ca</td>\n",
       "      <td>us</td>\n",
       "      <td>changing</td>\n",
       "      <td>300.0</td>\n",
       "      <td>11/1/1998</td>\n",
       "      <td>34.0983333</td>\n",
       "      <td>-118.325833</td>\n",
       "      <td>hollywood, ca</td>\n",
       "    </tr>\n",
       "  </tbody>\n",
       "</table>\n",
       "</div>"
      ],
      "text/plain": [
       "           Date_time       city state/province country UFO_shape  duration  \\\n",
       "10  10/10/1968 13:00  hawthorne             ca      us    circle     300.0   \n",
       "30  10/10/1979 22:00  san diego             ca      us      oval     180.0   \n",
       "45  10/10/1989 00:00  calabasas             ca      us      disk     300.0   \n",
       "63  10/10/1995 22:40    oakland             ca      us       NaN      60.0   \n",
       "72  10/10/1998 02:30  hollywood             ca      us  changing     300.0   \n",
       "\n",
       "   date_documented    latitude   longitude       location  \n",
       "10      10/31/2003  33.9163889 -118.351667  hawthorne, ca  \n",
       "30        8/5/2001  32.7152778 -117.156389  san diego, ca  \n",
       "45      12/14/2004  34.1577778 -118.637500  calabasas, ca  \n",
       "63       11/2/1999  37.8044444 -122.269722    oakland, ca  \n",
       "72       11/1/1998  34.0983333 -118.325833  hollywood, ca  "
      ]
     },
     "execution_count": 17,
     "metadata": {},
     "output_type": "execute_result"
    }
   ],
   "source": [
    "# We can filter our results with a simple one line command as follows\n",
    "ca_sightings = data[data['state/province'] == 'ca']\n",
    "\n",
    "# explanation for this syntax: \n",
    "# pandas will create a logical series using the coniditional we provided\n",
    "# The logical series will then be used to filter out the records that were false in the series\n",
    "# Think of using a for loop and that conditional being inside of it\n",
    "\n",
    "# preview of the logical series\n",
    "print((data['state/province'] == 'ca').head())\n",
    "print(ca_sightings.shape)\n",
    "ca_sightings.head()"
   ]
  },
  {
   "cell_type": "code",
   "execution_count": 18,
   "metadata": {},
   "outputs": [
    {
     "name": "stdout",
     "output_type": "stream",
     "text": [
      "10      300.0\n",
      "30      180.0\n",
      "45      300.0\n",
      "63       60.0\n",
      "72      300.0\n",
      "82     3600.0\n",
      "85     3600.0\n",
      "87       90.0\n",
      "105     120.0\n",
      "107     900.0\n",
      "Name: duration, dtype: float64\n"
     ]
    }
   ],
   "source": [
    "# if we want a specific column / columns from our query we can use dot notation or bracket notation to specify them \n",
    "# However this can cause funny behaviour, so best practice is to use loc[]\n",
    "\n",
    "ca_sighting_durations = data.loc[data['state/province'] == 'ca', 'duration']\n",
    "print(ca_sighting_durations[0:10])\n",
    "\n",
    "# hell yeah!"
   ]
  },
  {
   "cell_type": "code",
   "execution_count": 19,
   "metadata": {},
   "outputs": [
    {
     "data": {
      "text/plain": [
       "count    9.654000e+03\n",
       "mean     3.928781e+03\n",
       "std      1.356938e+05\n",
       "min      1.000000e-01\n",
       "25%      3.000000e+01\n",
       "50%      1.800000e+02\n",
       "75%      6.000000e+02\n",
       "max      1.052640e+07\n",
       "Name: duration, dtype: float64"
      ]
     },
     "execution_count": 19,
     "metadata": {},
     "output_type": "execute_result"
    }
   ],
   "source": [
    "# Lets have a bit of fun\n",
    "ca_sighting_durations.describe()"
   ]
  },
  {
   "cell_type": "markdown",
   "metadata": {},
   "source": [
    "### One hot encoded series"
   ]
  },
  {
   "cell_type": "code",
   "execution_count": 20,
   "metadata": {},
   "outputs": [
    {
     "data": {
      "text/plain": [
       "5    0\n",
       "6    0\n",
       "7    1\n",
       "8    0\n",
       "9    0\n",
       "Name: duration, dtype: int64"
      ]
     },
     "execution_count": 20,
     "metadata": {},
     "output_type": "execute_result"
    }
   ],
   "source": [
    "# We can one hot encode boolean series simply by casting it to an integer type like so\n",
    "# This is useful for training machine learning models that require numeric input\n",
    "\n",
    "(data['duration'] > 800).astype(int).head()"
   ]
  },
  {
   "cell_type": "markdown",
   "metadata": {},
   "source": [
    "### Multiple filters"
   ]
  },
  {
   "cell_type": "code",
   "execution_count": 21,
   "metadata": {},
   "outputs": [
    {
     "name": "stdout",
     "output_type": "stream",
     "text": [
      "(899, 10)\n"
     ]
    },
    {
     "data": {
      "text/html": [
       "<div>\n",
       "<style>\n",
       "    .dataframe thead tr:only-child th {\n",
       "        text-align: right;\n",
       "    }\n",
       "\n",
       "    .dataframe thead th {\n",
       "        text-align: left;\n",
       "    }\n",
       "\n",
       "    .dataframe tbody tr th {\n",
       "        vertical-align: top;\n",
       "    }\n",
       "</style>\n",
       "<table border=\"1\" class=\"dataframe\">\n",
       "  <thead>\n",
       "    <tr style=\"text-align: right;\">\n",
       "      <th></th>\n",
       "      <th>Date_time</th>\n",
       "      <th>city</th>\n",
       "      <th>state/province</th>\n",
       "      <th>country</th>\n",
       "      <th>UFO_shape</th>\n",
       "      <th>duration</th>\n",
       "      <th>date_documented</th>\n",
       "      <th>latitude</th>\n",
       "      <th>longitude</th>\n",
       "      <th>location</th>\n",
       "    </tr>\n",
       "  </thead>\n",
       "  <tbody>\n",
       "    <tr>\n",
       "      <th>10</th>\n",
       "      <td>10/10/1968 13:00</td>\n",
       "      <td>hawthorne</td>\n",
       "      <td>ca</td>\n",
       "      <td>us</td>\n",
       "      <td>circle</td>\n",
       "      <td>300.0</td>\n",
       "      <td>10/31/2003</td>\n",
       "      <td>33.9163889</td>\n",
       "      <td>-118.351667</td>\n",
       "      <td>hawthorne, ca</td>\n",
       "    </tr>\n",
       "    <tr>\n",
       "      <th>87</th>\n",
       "      <td>10/10/1999 20:35</td>\n",
       "      <td>hayward</td>\n",
       "      <td>ca</td>\n",
       "      <td>us</td>\n",
       "      <td>circle</td>\n",
       "      <td>90.0</td>\n",
       "      <td>11/20/2001</td>\n",
       "      <td>37.6688889</td>\n",
       "      <td>-122.079722</td>\n",
       "      <td>hayward, ca</td>\n",
       "    </tr>\n",
       "    <tr>\n",
       "      <th>105</th>\n",
       "      <td>10/10/2001 20:35</td>\n",
       "      <td>hayward</td>\n",
       "      <td>ca</td>\n",
       "      <td>us</td>\n",
       "      <td>circle</td>\n",
       "      <td>120.0</td>\n",
       "      <td>11/20/2001</td>\n",
       "      <td>37.6688889</td>\n",
       "      <td>-122.079722</td>\n",
       "      <td>hayward, ca</td>\n",
       "    </tr>\n",
       "    <tr>\n",
       "      <th>354</th>\n",
       "      <td>10/11/2004 14:00</td>\n",
       "      <td>arroyo grande</td>\n",
       "      <td>ca</td>\n",
       "      <td>us</td>\n",
       "      <td>circle</td>\n",
       "      <td>60.0</td>\n",
       "      <td>12/14/2004</td>\n",
       "      <td>35.1186111</td>\n",
       "      <td>-120.589722</td>\n",
       "      <td>arroyo grande, ca</td>\n",
       "    </tr>\n",
       "    <tr>\n",
       "      <th>385</th>\n",
       "      <td>10/11/2006 21:32</td>\n",
       "      <td>la crescenta</td>\n",
       "      <td>ca</td>\n",
       "      <td>us</td>\n",
       "      <td>circle</td>\n",
       "      <td>3.0</td>\n",
       "      <td>10/30/2006</td>\n",
       "      <td>34.2241667</td>\n",
       "      <td>-118.239167</td>\n",
       "      <td>la crescenta, ca</td>\n",
       "    </tr>\n",
       "  </tbody>\n",
       "</table>\n",
       "</div>"
      ],
      "text/plain": [
       "            Date_time           city state/province country UFO_shape  \\\n",
       "10   10/10/1968 13:00      hawthorne             ca      us    circle   \n",
       "87   10/10/1999 20:35        hayward             ca      us    circle   \n",
       "105  10/10/2001 20:35        hayward             ca      us    circle   \n",
       "354  10/11/2004 14:00  arroyo grande             ca      us    circle   \n",
       "385  10/11/2006 21:32   la crescenta             ca      us    circle   \n",
       "\n",
       "     duration date_documented    latitude   longitude           location  \n",
       "10      300.0      10/31/2003  33.9163889 -118.351667      hawthorne, ca  \n",
       "87       90.0      11/20/2001  37.6688889 -122.079722        hayward, ca  \n",
       "105     120.0      11/20/2001  37.6688889 -122.079722        hayward, ca  \n",
       "354      60.0      12/14/2004  35.1186111 -120.589722  arroyo grande, ca  \n",
       "385       3.0      10/30/2006  34.2241667 -118.239167   la crescenta, ca  "
      ]
     },
     "execution_count": 21,
     "metadata": {},
     "output_type": "execute_result"
    }
   ],
   "source": [
    "# To apply multiple filters:\n",
    "# Wrap each logical series in paranthesis\n",
    "# Use & | for operators between them\n",
    "\n",
    "ca_circular_sightings = data[(data['state/province'] == 'ca') & (data['UFO_shape'] == 'circle')]\n",
    "print(ca_circular_sightings.shape)\n",
    "ca_circular_sightings.head()"
   ]
  },
  {
   "cell_type": "markdown",
   "metadata": {},
   "source": [
    "### Multiple OR choices"
   ]
  },
  {
   "cell_type": "code",
   "execution_count": 22,
   "metadata": {},
   "outputs": [
    {
     "name": "stdout",
     "output_type": "stream",
     "text": [
      "(404, 10)\n"
     ]
    },
    {
     "data": {
      "text/html": [
       "<div>\n",
       "<style>\n",
       "    .dataframe thead tr:only-child th {\n",
       "        text-align: right;\n",
       "    }\n",
       "\n",
       "    .dataframe thead th {\n",
       "        text-align: left;\n",
       "    }\n",
       "\n",
       "    .dataframe tbody tr th {\n",
       "        vertical-align: top;\n",
       "    }\n",
       "</style>\n",
       "<table border=\"1\" class=\"dataframe\">\n",
       "  <thead>\n",
       "    <tr style=\"text-align: right;\">\n",
       "      <th></th>\n",
       "      <th>Date_time</th>\n",
       "      <th>city</th>\n",
       "      <th>state/province</th>\n",
       "      <th>country</th>\n",
       "      <th>UFO_shape</th>\n",
       "      <th>duration</th>\n",
       "      <th>date_documented</th>\n",
       "      <th>latitude</th>\n",
       "      <th>longitude</th>\n",
       "      <th>location</th>\n",
       "    </tr>\n",
       "  </thead>\n",
       "  <tbody>\n",
       "    <tr>\n",
       "      <th>12866</th>\n",
       "      <td>11/25/1985 00:00</td>\n",
       "      <td>edna</td>\n",
       "      <td>tx</td>\n",
       "      <td>us</td>\n",
       "      <td>unknown</td>\n",
       "      <td>240.0</td>\n",
       "      <td>1/21/2008</td>\n",
       "      <td>28.9783333</td>\n",
       "      <td>-96.645833</td>\n",
       "      <td>edna, tx</td>\n",
       "    </tr>\n",
       "    <tr>\n",
       "      <th>43242</th>\n",
       "      <td>5/19/2012 21:00</td>\n",
       "      <td>edna</td>\n",
       "      <td>tx</td>\n",
       "      <td>us</td>\n",
       "      <td>other</td>\n",
       "      <td>3600.0</td>\n",
       "      <td>5/29/2012</td>\n",
       "      <td>28.9783333</td>\n",
       "      <td>-96.645833</td>\n",
       "      <td>edna, tx</td>\n",
       "    </tr>\n",
       "    <tr>\n",
       "      <th>37290</th>\n",
       "      <td>4/16/2012 18:00</td>\n",
       "      <td>oakland</td>\n",
       "      <td>ca</td>\n",
       "      <td>us</td>\n",
       "      <td>disk</td>\n",
       "      <td>300.0</td>\n",
       "      <td>5/13/2012</td>\n",
       "      <td>37.8044444</td>\n",
       "      <td>-122.269722</td>\n",
       "      <td>oakland, ca</td>\n",
       "    </tr>\n",
       "    <tr>\n",
       "      <th>64032</th>\n",
       "      <td>7/9/2010 13:00</td>\n",
       "      <td>oakland</td>\n",
       "      <td>ca</td>\n",
       "      <td>us</td>\n",
       "      <td>cylinder</td>\n",
       "      <td>900.0</td>\n",
       "      <td>7/28/2010</td>\n",
       "      <td>37.8044444</td>\n",
       "      <td>-122.269722</td>\n",
       "      <td>oakland, ca</td>\n",
       "    </tr>\n",
       "  </tbody>\n",
       "</table>\n",
       "</div>"
      ],
      "text/plain": [
       "              Date_time     city state/province country UFO_shape  duration  \\\n",
       "12866  11/25/1985 00:00     edna             tx      us   unknown     240.0   \n",
       "43242   5/19/2012 21:00     edna             tx      us     other    3600.0   \n",
       "37290   4/16/2012 18:00  oakland             ca      us      disk     300.0   \n",
       "64032    7/9/2010 13:00  oakland             ca      us  cylinder     900.0   \n",
       "\n",
       "      date_documented    latitude   longitude     location  \n",
       "12866       1/21/2008  28.9783333  -96.645833     edna, tx  \n",
       "43242       5/29/2012  28.9783333  -96.645833     edna, tx  \n",
       "37290       5/13/2012  37.8044444 -122.269722  oakland, ca  \n",
       "64032       7/28/2010  37.8044444 -122.269722  oakland, ca  "
      ]
     },
     "execution_count": 22,
     "metadata": {},
     "output_type": "execute_result"
    }
   ],
   "source": [
    "# If we needed to filter a dataframe by series where we had a handful of options then we can use a series method\n",
    "# called isin() and pass it a list of the values we want to keep\n",
    "\n",
    "my_cities_sightings = data[data.city.isin(['san diego', 'oakland', 'edna'])]\n",
    "print(my_cities_sightings.shape)\n",
    "my_cities_sightings.sort_values('city')[0:4]\n"
   ]
  },
  {
   "cell_type": "code",
   "execution_count": 23,
   "metadata": {},
   "outputs": [
    {
     "data": {
      "text/html": [
       "<div>\n",
       "<style>\n",
       "    .dataframe thead tr:only-child th {\n",
       "        text-align: right;\n",
       "    }\n",
       "\n",
       "    .dataframe thead th {\n",
       "        text-align: left;\n",
       "    }\n",
       "\n",
       "    .dataframe tbody tr th {\n",
       "        vertical-align: top;\n",
       "    }\n",
       "</style>\n",
       "<table border=\"1\" class=\"dataframe\">\n",
       "  <thead>\n",
       "    <tr style=\"text-align: right;\">\n",
       "      <th></th>\n",
       "      <th>Date_time</th>\n",
       "      <th>city</th>\n",
       "      <th>state/province</th>\n",
       "      <th>country</th>\n",
       "      <th>UFO_shape</th>\n",
       "      <th>duration</th>\n",
       "      <th>date_documented</th>\n",
       "      <th>latitude</th>\n",
       "      <th>longitude</th>\n",
       "      <th>location</th>\n",
       "    </tr>\n",
       "  </thead>\n",
       "  <tbody>\n",
       "    <tr>\n",
       "      <th>22852</th>\n",
       "      <td>12/6/1999 16:45</td>\n",
       "      <td>san diego</td>\n",
       "      <td>ca</td>\n",
       "      <td>us</td>\n",
       "      <td>unknown</td>\n",
       "      <td>300.0</td>\n",
       "      <td>12/16/1999</td>\n",
       "      <td>32.7152778</td>\n",
       "      <td>-117.156389</td>\n",
       "      <td>san diego, ca</td>\n",
       "    </tr>\n",
       "    <tr>\n",
       "      <th>22521</th>\n",
       "      <td>12/5/1999 23:00</td>\n",
       "      <td>san diego</td>\n",
       "      <td>ca</td>\n",
       "      <td>us</td>\n",
       "      <td>fireball</td>\n",
       "      <td>7.0</td>\n",
       "      <td>12/16/1999</td>\n",
       "      <td>32.7152778</td>\n",
       "      <td>-117.156389</td>\n",
       "      <td>san diego, ca</td>\n",
       "    </tr>\n",
       "    <tr>\n",
       "      <th>24750</th>\n",
       "      <td>1/5/2007 21:15</td>\n",
       "      <td>san diego</td>\n",
       "      <td>ca</td>\n",
       "      <td>us</td>\n",
       "      <td>light</td>\n",
       "      <td>1.0</td>\n",
       "      <td>2/1/2007</td>\n",
       "      <td>32.7152778</td>\n",
       "      <td>-117.156389</td>\n",
       "      <td>san diego, ca</td>\n",
       "    </tr>\n",
       "    <tr>\n",
       "      <th>80316</th>\n",
       "      <td>9/9/2013 09:51</td>\n",
       "      <td>san diego</td>\n",
       "      <td>ca</td>\n",
       "      <td>us</td>\n",
       "      <td>light</td>\n",
       "      <td>4.0</td>\n",
       "      <td>9/30/2013</td>\n",
       "      <td>32.7152778</td>\n",
       "      <td>-117.156389</td>\n",
       "      <td>san diego, ca</td>\n",
       "    </tr>\n",
       "  </tbody>\n",
       "</table>\n",
       "</div>"
      ],
      "text/plain": [
       "             Date_time       city state/province country UFO_shape  duration  \\\n",
       "22852  12/6/1999 16:45  san diego             ca      us   unknown     300.0   \n",
       "22521  12/5/1999 23:00  san diego             ca      us  fireball       7.0   \n",
       "24750   1/5/2007 21:15  san diego             ca      us     light       1.0   \n",
       "80316   9/9/2013 09:51  san diego             ca      us     light       4.0   \n",
       "\n",
       "      date_documented    latitude   longitude       location  \n",
       "22852      12/16/1999  32.7152778 -117.156389  san diego, ca  \n",
       "22521      12/16/1999  32.7152778 -117.156389  san diego, ca  \n",
       "24750        2/1/2007  32.7152778 -117.156389  san diego, ca  \n",
       "80316       9/30/2013  32.7152778 -117.156389  san diego, ca  "
      ]
     },
     "execution_count": 23,
     "metadata": {},
     "output_type": "execute_result"
    }
   ],
   "source": [
    "my_cities_sightings.sort_values('city')[-4:]"
   ]
  },
  {
   "cell_type": "markdown",
   "metadata": {
    "collapsed": true
   },
   "source": [
    "## Groupby\n",
    "\n",
    "We should use grouby methods when our questions consist of something like \"For each group i want the average of...\". There are many groupby methods which pandas provides such as \n",
    "\n",
    "* mean\n",
    "* sum\n",
    "* max\n",
    "* min"
   ]
  },
  {
   "cell_type": "code",
   "execution_count": 29,
   "metadata": {},
   "outputs": [
    {
     "name": "stdout",
     "output_type": "stream",
     "text": [
      "country\n",
      "au      538\n",
      "ca     3000\n",
      "de      105\n",
      "gb     1904\n",
      "us    65109\n",
      "Name: duration, dtype: int64\n",
      "Fascinating\n"
     ]
    }
   ],
   "source": [
    "mean_sighting_time_by_country = data.groupby('country').duration.mean()\n",
    "print(mean_sighting_time_by_country)\n",
    "print('Fascinating')"
   ]
  },
  {
   "cell_type": "markdown",
   "metadata": {},
   "source": [
    "We can specify multiple aggregator methods by running the agg method on the feature"
   ]
  },
  {
   "cell_type": "code",
   "execution_count": null,
   "metadata": {
    "collapsed": true
   },
   "outputs": [],
   "source": [
    "co"
   ]
  }
 ],
 "metadata": {
  "kernelspec": {
   "display_name": "Python 3",
   "language": "python",
   "name": "python3"
  },
  "language_info": {
   "codemirror_mode": {
    "name": "ipython",
    "version": 3
   },
   "file_extension": ".py",
   "mimetype": "text/x-python",
   "name": "python",
   "nbconvert_exporter": "python",
   "pygments_lexer": "ipython3",
   "version": "3.6.1"
  }
 },
 "nbformat": 4,
 "nbformat_minor": 2
}
